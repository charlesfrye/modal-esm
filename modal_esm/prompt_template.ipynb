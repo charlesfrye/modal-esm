{
 "cells": [
  {
   "cell_type": "code",
   "execution_count": 1,
   "metadata": {},
   "outputs": [],
   "source": [
    "from dataclasses import dataclass, field\n",
    "from typing import List, Set, Tuple, Optional\n",
    "# import numpy as np\n",
    "# import torch\n",
    "\n",
    "from esm.sdk.api import ESMProtein\n",
    "from protein_prompt_template import ProteinPromptTemplate\n",
    "from esm.utils.structure.protein_chain import ProteinChain\n",
    "from esm.utils.structure.aligner import Aligner\n",
    "from esm.sdk.api import ESMProtein, GenerationConfig, ESM3InferenceClient\n",
    "from esm.tokenization import EsmSequenceTokenizer\n",
    "from esm.models.esm3 import ESM3\n",
    "from biotite.structure import annotate_sse\n",
    "from transformers import EsmTokenizer, EsmForSequenceClassification\n",
    "from peft import PeftConfig, PeftModelForSequenceClassification\n",
    "from huggingface_hub import snapshot_download\n",
    "import pandas as pd\n",
    "from tqdm import tqdm\n",
    "import torch\n",
    "from esm.utils.constants import esm3 as C"
   ]
  },
  {
   "cell_type": "code",
   "execution_count": 2,
   "metadata": {},
   "outputs": [],
   "source": [
    "ref_sequence: str = 'MVSKGEELFTGVVPILVELDGDVNGHKFSVSGEGEGDATYGKLTLKFICTTGKLPVPWPTLVTTFGYGLQCFARYPDHMKQHDFFKSAMPEGYVQERTIFFKDDGNYKTRAEVKFEGDTLVNRIELKGIDFKEDGNILGHKLEYNYNSHNVYIMADKQKNGIKVNFKIRHNIEDGSVQLADHYQQNTPIGDGPVLLPDNHYLSYQSALSKDPNEKRDHMVLLEFVTAAGITLGMDELYK'\n",
    "sequence_fixed_indices = None\n",
    "structure_fixed_indices= None\n",
    "n_iterations = 20\n",
    "n_processes = 20\n",
    "n_generated_per_iter = 400 # Changed from variants_per_iteration\n",
    "n_propagated_per_iter = 10\n",
    "masking_function = None\n",
    "fitness_function = None\n",
    "\n",
    "if sequence_fixed_indices is None:\n",
    "    sequence_fixed_indices = [1, 62, 65, 66, 67, 96, 222]\n",
    "if structure_fixed_indices is None:\n",
    "    structure_fixed_indices = list(range(58, 72)) + [96, 222]\n"
   ]
  },
  {
   "cell_type": "code",
   "execution_count": 3,
   "metadata": {},
   "outputs": [],
   "source": [
    "def pad_coords(coords, start_pad, end_pad):\n",
    "            return torch.cat([\n",
    "                torch.full((start_pad, 37, 3), float('nan')), \n",
    "                coords, \n",
    "                torch.full((end_pad, 37, 3), float('nan'))\n",
    "                ], dim=0)"
   ]
  },
  {
   "cell_type": "code",
   "execution_count": 4,
   "metadata": {},
   "outputs": [],
   "source": [
    " # Load YFP template\n",
    "pdb_id = \"1YFP\"  # Enhanced Yellow Fluorescent Protein\n",
    "chain_id = \"A\"\n",
    "ref_chain = ProteinChain.from_rcsb(pdb_id, chain_id)\n",
    "\n",
    "ref_pdb_start = ref_chain.residue_index[0]\n",
    "ref_pdb_end = ref_chain.residue_index[-1]\n",
    "end_padding = len(ref_sequence) - ref_pdb_end + 2\n",
    "\n",
    "coords = torch.tensor(ref_chain.atom37_positions)\n",
    "padded_coords = pad_coords(coords, ref_pdb_start, end_padding)\n",
    "\n",
    "template_esm_protein = ESMProtein(\n",
    "    sequence=ref_sequence,\n",
    "    coordinates=padded_coords,\n",
    ")\n"
   ]
  },
  {
   "cell_type": "code",
   "execution_count": null,
   "metadata": {},
   "outputs": [],
   "source": [
    "# protein_chain = template_esm_protein.to_protein_chain()\n",
    "# secondary_structure = ''.join(protein_chain.dssp()).replace('X', C.MASK_STR_SHORT)\n",
    "# template_esm_protein.secondary_structure = secondary_structure"
   ]
  },
  {
   "cell_type": "code",
   "execution_count": 5,
   "metadata": {},
   "outputs": [],
   "source": [
    "secondary_structure = '___CGGGGGSSCEEEEEEEEEEETTEEEEEEEEEEEETTTTEEEEEEEESSSSCSSCGGGGTTTCCGGGCBCCTTTGGGCHHHHTTTTCEEEEEEEEETTSCEEEEEEEEEEETTEEEEEEEEEEECCCTTSTTTTTCBCSCCCCEEEEEEEETTTTEEEEEEEEEEEBTTSCEEEEEEEEEEEESSSSCCCCCCSCEEEEEEEEECCTTCCSSEEEEEEEEEEECC____________'"
   ]
  },
  {
   "cell_type": "code",
   "execution_count": 6,
   "metadata": {},
   "outputs": [],
   "source": [
    "template_esm_protein.secondary_structure = secondary_structure"
   ]
  },
  {
   "cell_type": "code",
   "execution_count": null,
   "metadata": {},
   "outputs": [],
   "source": []
  },
  {
   "cell_type": "code",
   "execution_count": 7,
   "metadata": {},
   "outputs": [],
   "source": [
    "\n",
    "template = ProteinPromptTemplate.from_esm_protein(\n",
    "        template_esm_protein,\n",
    "        fixed_seq_indices=sequence_fixed_indices,\n",
    "        fixed_struc_indices=structure_fixed_indices,\n",
    "    )\n"
   ]
  },
  {
   "cell_type": "code",
   "execution_count": 8,
   "metadata": {},
   "outputs": [],
   "source": [
    "prompt = template.apply_masking(mask_fraction=0.02)"
   ]
  },
  {
   "cell_type": "code",
   "execution_count": 9,
   "metadata": {},
   "outputs": [],
   "source": [
    "sequence_config = GenerationConfig(\n",
    "        track=\"sequence\",\n",
    "        num_steps=len(prompt.get_masked_indices()),\n",
    "    )"
   ]
  },
  {
   "cell_type": "code",
   "execution_count": 10,
   "metadata": {},
   "outputs": [
    {
     "data": {
      "application/vnd.jupyter.widget-view+json": {
       "model_id": "50fbaeaece2e43d9a471c47ebef1b65b",
       "version_major": 2,
       "version_minor": 0
      },
      "text/plain": [
       "Fetching 22 files:   0%|          | 0/22 [00:00<?, ?it/s]"
      ]
     },
     "metadata": {},
     "output_type": "display_data"
    }
   ],
   "source": [
    "device = torch.device(\"cuda\" if torch.cuda.is_available() else \"cpu\")\n",
    "    \n",
    "# ESM3 model\n",
    "esm_model: ESM3InferenceClient = ESM3.from_pretrained(\"esm3_sm_open_v1\").to(device)\n",
    "esm_tokenizer = EsmSequenceTokenizer()"
   ]
  },
  {
   "cell_type": "code",
   "execution_count": null,
   "metadata": {},
   "outputs": [],
   "source": []
  },
  {
   "cell_type": "code",
   "execution_count": 11,
   "metadata": {},
   "outputs": [],
   "source": [
    "p = prompt.to_esm_protein()"
   ]
  },
  {
   "cell_type": "code",
   "execution_count": 12,
   "metadata": {},
   "outputs": [
    {
     "data": {
      "text/plain": [
       "'___CGGGGGSSCEEEEEEEEEEETTEEEEEEEEEEEETTTTEEEEEEEESSSSCSSCGGGGTTTCCGGGCBCCTTTGGGCHHHHTTTTCEEEEEEEEETTSCEEEEEEEEEEETTEEEEEEEEEEECCCTTSTTTTTCBCSCCCCEEEEEEEETTTTEEEEEEEEEEEBTTSCEEEEEEEEEEEESSSSCCCCCCSCEEEEEEEEECCTTCCSSEEEEEEEEEEECC____________'"
      ]
     },
     "execution_count": 12,
     "metadata": {},
     "output_type": "execute_result"
    }
   ],
   "source": [
    "p.secondary_structure"
   ]
  },
  {
   "cell_type": "code",
   "execution_count": null,
   "metadata": {},
   "outputs": [],
   "source": [
    "esm_model.encode()"
   ]
  },
  {
   "cell_type": "code",
   "execution_count": null,
   "metadata": {},
   "outputs": [],
   "source": [
    "output = esm_model.generate(\n",
    "    prompt.to_esm_protein(),\n",
    "    sequence_config,\n",
    ")"
   ]
  }
 ],
 "metadata": {
  "kernelspec": {
   "display_name": "modal-esm-N6giHWZX-py3.10",
   "language": "python",
   "name": "python3"
  },
  "language_info": {
   "codemirror_mode": {
    "name": "ipython",
    "version": 3
   },
   "file_extension": ".py",
   "mimetype": "text/x-python",
   "name": "python",
   "nbconvert_exporter": "python",
   "pygments_lexer": "ipython3",
   "version": "3.10.11"
  }
 },
 "nbformat": 4,
 "nbformat_minor": 2
}
